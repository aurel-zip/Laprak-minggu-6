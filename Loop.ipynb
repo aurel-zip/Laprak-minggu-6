{
  "cells": [
    {
      "cell_type": "markdown",
      "metadata": {
        "id": "Hfk_lMf60Vds"
      },
      "source": [
        "# **Weekly Exercise 1**"
      ]
    },
    {
      "cell_type": "code",
      "execution_count": 1,
      "metadata": {
        "colab": {
          "base_uri": "https://localhost:8080/"
        },
        "id": "OaeTztNt0CRw",
        "outputId": "e57c3b86-bd04-4d1a-f064-0f26c98bcc80"
      },
      "outputs": [
        {
          "output_type": "stream",
          "name": "stdout",
          "text": [
            "Masukkan jumlah baris: 5\n",
            "     * \n",
            "    * * \n",
            "   * * * \n",
            "  * * * * \n",
            " * * * * * \n"
          ]
        }
      ],
      "source": [
        "baris = int(input(\"Masukkan jumlah baris: \"))\n",
        "for i in range(1, baris + 1):\n",
        "  print(\" \"* (baris - i), end = \" \")\n",
        "  print(\"* \" * i)"
      ]
    },
    {
      "cell_type": "markdown",
      "metadata": {
        "id": "VE3WJpmA49RT"
      },
      "source": [
        "# **Weekly Exerice 2**"
      ]
    },
    {
      "cell_type": "code",
      "execution_count": null,
      "metadata": {
        "colab": {
          "base_uri": "https://localhost:8080/"
        },
        "id": "9--YiMTg4_4z",
        "outputId": "d831447d-fc0c-4cd9-b42c-6cf92a4cc31f"
      },
      "outputs": [
        {
          "output_type": "stream",
          "name": "stdout",
          "text": [
            "Masukkan jumlah baris= 5\n",
            "    1 \n",
            "   1 1 \n",
            "  1 2 1 \n",
            " 1 3 3 1 \n",
            "1 4 6 4 1 \n"
          ]
        }
      ],
      "source": [
        "jumlah_baris = int(input(\"Masukkan jumlah baris= \"))\n",
        "for i in range(jumlah_baris):\n",
        "  print(' ' * (jumlah_baris - i - 1), end='')\n",
        "  k = 1\n",
        "  for j in range(i + 1):\n",
        "    print(k, end=' ')\n",
        "    k = k * (i - j) // (j + 1)\n",
        "  print()"
      ]
    },
    {
      "cell_type": "markdown",
      "metadata": {
        "id": "y5_uXQjQ71E9"
      },
      "source": [
        "# **Weekly Exercise 3**"
      ]
    },
    {
      "cell_type": "code",
      "execution_count": null,
      "metadata": {
        "colab": {
          "base_uri": "https://localhost:8080/"
        },
        "id": "ALaSKBsl82Wf",
        "outputId": "b3a79cd6-ebff-47ac-e733-aa3f036a173c"
      },
      "outputs": [
        {
          "output_type": "stream",
          "name": "stdout",
          "text": [
            "Masukkan jumlah baris: 8\n",
            "                 1 = 1\n",
            "               1   1 = 2\n",
            "             1   2   1 = 4\n",
            "           1   3   3   1 = 8\n",
            "         1   4   6   4   1 = 16\n",
            "       1   5   10   10   5   1 = 32\n",
            "     1   6   15   20   15   6   1 = 64\n",
            "   1   7   21   35   35   21   7   1 = 128\n"
          ]
        }
      ],
      "source": [
        "baris = int(input(\"Masukkan jumlah baris: \"))\n",
        "\n",
        "for i in range(1, baris + 1):\n",
        "  for j in range(0, baris - i + 1):\n",
        "      print(\" \", end = \" \")\n",
        "  k = 1\n",
        "  b = 1\n",
        "  for j in range(1, i + 1):\n",
        "    print(\" \", k, sep = \"\", end = \"\")\n",
        "    k = k * (i - j) // j\n",
        "    b += k\n",
        "    if j !=i :\n",
        "      print(\" \", end = \" \")\n",
        "  print(\" =\", b)"
      ]
    }
  ],
  "metadata": {
    "colab": {
      "provenance": []
    },
    "kernelspec": {
      "display_name": "Python 3",
      "name": "python3"
    },
    "language_info": {
      "name": "python"
    }
  },
  "nbformat": 4,
  "nbformat_minor": 0
}